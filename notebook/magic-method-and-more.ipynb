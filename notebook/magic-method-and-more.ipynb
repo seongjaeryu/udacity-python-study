{
 "cells": [
  {
   "cell_type": "markdown",
   "id": "1e750aa9",
   "metadata": {},
   "source": [
    "# Magic Methods"
   ]
  },
  {
   "cell_type": "markdown",
   "id": "8c311a8a",
   "metadata": {},
   "source": [
    "```\n",
    "def Dog(~~~~~~~):\n",
    "    def __add__:\n",
    "        return result\n",
    "```\n",
    "\n",
    "object `+` object"
   ]
  },
  {
   "cell_type": "markdown",
   "id": "ac52a3f5",
   "metadata": {},
   "source": [
    "```\n",
    "    def __repr__:\n",
    "        return result\n",
    "```\n",
    "\n",
    "`object`"
   ]
  },
  {
   "cell_type": "markdown",
   "id": "23b249b6",
   "metadata": {},
   "source": [
    "# Inheritance"
   ]
  },
  {
   "cell_type": "markdown",
   "id": "b4425d9a",
   "metadata": {},
   "source": [
    "Parent\n",
    "```\n",
    "class Clothing:\n",
    "    def __init__(self, color, size):\n",
    "        self.color = color\n",
    "        self.size = size\n",
    "```\n",
    "Child\n",
    "```\n",
    "class Shirt(Clothing):\n",
    "    def __init(self, color, size, sleeve):\n",
    "        Clothing.__init__(self, color, size)\n",
    "        self.sleeve = sleeve\n",
    "```\n",
    "- Also able to overwrite parent's attribute\n"
   ]
  },
  {
   "cell_type": "code",
   "execution_count": null,
   "id": "19ef2d68",
   "metadata": {},
   "outputs": [],
   "source": []
  }
 ],
 "metadata": {
  "kernelspec": {
   "display_name": "Python 3",
   "language": "python",
   "name": "python3"
  },
  "language_info": {
   "codemirror_mode": {
    "name": "ipython",
    "version": 3
   },
   "file_extension": ".py",
   "mimetype": "text/x-python",
   "name": "python",
   "nbconvert_exporter": "python",
   "pygments_lexer": "ipython3",
   "version": "3.9.4"
  }
 },
 "nbformat": 4,
 "nbformat_minor": 5
}
