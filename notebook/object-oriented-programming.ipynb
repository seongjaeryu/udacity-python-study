{
 "cells": [
  {
   "cell_type": "code",
   "execution_count": 1,
   "id": "bbcfcd8b",
   "metadata": {},
   "outputs": [],
   "source": [
    "# import"
   ]
  },
  {
   "cell_type": "markdown",
   "id": "eee7b9ec",
   "metadata": {},
   "source": [
    "# Object Oriented Progamming, OOP"
   ]
  },
  {
   "cell_type": "markdown",
   "id": "9c1dd7c7",
   "metadata": {},
   "source": [
    "### Purpose\n",
    "- To create modular programs: easily expandable\n",
    "- To hide implementation from end-users: encapsulation\n",
    "    - encapsulation: combining data and functions into a single entity, called a class\n",
    "\n",
    "\n",
    "##### <-> Procedural Programming"
   ]
  },
  {
   "cell_type": "markdown",
   "id": "30496fa0",
   "metadata": {},
   "source": [
    "#### Object\n",
    "\n",
    "\n",
    "`Characteristics` + `Actions`\n",
    "\n",
    "\n",
    "`Noun` + `Verb`\n",
    "\n",
    "\n",
    "`Attributes (& value of each)` + `Method`\n",
    "\n",
    "\n",
    "##### Function <-> Method (of a class)"
   ]
  },
  {
   "cell_type": "markdown",
   "id": "aff18389",
   "metadata": {},
   "source": [
    "#### Class\n",
    "- Generic Version (Blueprint) of Objects: consisting attributes and methods\n",
    "- Object is an instance of Class"
   ]
  },
  {
   "cell_type": "markdown",
   "id": "c8f1a02d",
   "metadata": {},
   "source": [
    "##### OOP Convention: Def `set` and `get` methods\n",
    "because Python does not have an option to limit changing or accessing an attribute's value directly"
   ]
  },
  {
   "cell_type": "code",
   "execution_count": 2,
   "id": "c7585902",
   "metadata": {},
   "outputs": [],
   "source": [
    "# __init__ : keyword for\n",
    "# the method to create a dictonary that contains attributes and value of each of the Class\n",
    "# self : conventional name to look at the object itselt in memory\n",
    "class Dog:\n",
    "    \"\"\"The Dog class represents dog, one of animal types.\n",
    "    \"\"\"\n",
    "    def __init__(self, name, breed, age, color, weight):\n",
    "        \"\"\"Method for initializing a Dog object\n",
    "        \n",
    "        Args:\n",
    "            name (str)\n",
    "            breed (str)\n",
    "            age (int)\n",
    "            color (str)\n",
    "            weight (float)\n",
    "            \n",
    "        Attributes:\n",
    "            name (str): name of a dog object\n",
    "            breed (str): breed of a dog object\n",
    "            age (int): age of a dog object\n",
    "            color (str): color of a dog object\n",
    "            weight (float): weight of a dog object\n",
    "        \"\"\"\n",
    "        self._name = name\n",
    "        self._breed = breed\n",
    "        self._age = age\n",
    "        self._color = color\n",
    "        self._weight = weight\n",
    "    \n",
    "    def check(self):\n",
    "        \"\"\"The check method output the information of a dog object.\n",
    "        \n",
    "        Returns:\n",
    "            str: the information about the dog object\n",
    "        \"\"\"\n",
    "        return '{}({}, {}): {}(Color), {}(Weight)'.format(\n",
    "            self._name, self._breed, self._age, self._color, self._weight\n",
    "        )\n",
    "    \n",
    "    def change_color(self, new_color):\n",
    "        \"\"\"The change_color method changes the color attribute of a dog object.\n",
    "        \n",
    "        Args:\n",
    "            new_color (str): the new color of the dog object\n",
    "            \n",
    "        Returns: None\n",
    "        \"\"\"\n",
    "        self._color = new_color\n",
    "    \n",
    "    def eat(self, food_weight):\n",
    "        \"\"\"The eat method changes the weight attribute of a dog object.\n",
    "        \n",
    "        Args:\n",
    "            food_weight (float): a float representing the amount of the dog object's weight to increase\n",
    "        \n",
    "        Return: None\n",
    "        \"\"\"\n",
    "        self._weight += food_weight\n",
    "    \n",
    "    def excercise(self, hour):\n",
    "        \"\"\"The excercise method changes the weight attribute of a dog object\n",
    "            or outputs a string of denial message if the hour is bigger than 10.\n",
    "        \n",
    "        Args:\n",
    "            hour (float): a float representing the amount of the dog object's weight to decrease\n",
    "        \n",
    "        Return:\n",
    "            None\n",
    "            denial message (str)\n",
    "        \"\"\"\n",
    "        if hour <= 10:\n",
    "            self._weight *= 1 - (hour * 0.01)\n",
    "        else:\n",
    "            return \"{}: I can't do it!\".format(self._name)\n",
    "    \n",
    "    def howl(self):\n",
    "        \"\"\"The howl method outputs a string including the dog object's name.\n",
    "        \"\"\"\n",
    "        return '{}: woo~~~~~~~~~~~~~~~~~~'.format(self._name)   "
   ]
  },
  {
   "cell_type": "code",
   "execution_count": 3,
   "id": "df9bc7a1",
   "metadata": {},
   "outputs": [],
   "source": [
    "# Instantiating an object\n",
    "dog_hindoing = Dog('Hindoing', 'Bichon', 'White', 10, 25.0)"
   ]
  },
  {
   "cell_type": "code",
   "execution_count": 4,
   "id": "49de6535",
   "metadata": {},
   "outputs": [
    {
     "data": {
      "text/plain": [
       "'Hindoing(Bichon, White): Gray(Color), 25.0(Weight)'"
      ]
     },
     "execution_count": 4,
     "metadata": {},
     "output_type": "execute_result"
    }
   ],
   "source": [
    "# OOP Convention : Checking(get) and Changing(set) its Value via Method\n",
    "dog_hindoing.change_color('Gray')\n",
    "dog_hindoing.check()"
   ]
  },
  {
   "cell_type": "code",
   "execution_count": 5,
   "id": "fb4ad3d1",
   "metadata": {},
   "outputs": [
    {
     "data": {
      "text/plain": [
       "'Hindoing(Bichon, White): Gray(Color), 26.0(Weight)'"
      ]
     },
     "execution_count": 5,
     "metadata": {},
     "output_type": "execute_result"
    }
   ],
   "source": [
    "dog_hindoing.eat(1)\n",
    "dog_hindoing.check()"
   ]
  },
  {
   "cell_type": "code",
   "execution_count": 6,
   "id": "e8d96e51",
   "metadata": {},
   "outputs": [
    {
     "data": {
      "text/plain": [
       "'Hindoing(Bichon, White): Gray(Color), 25.48(Weight)'"
      ]
     },
     "execution_count": 6,
     "metadata": {},
     "output_type": "execute_result"
    }
   ],
   "source": [
    "dog_hindoing.excercise(2)\n",
    "dog_hindoing.check()"
   ]
  },
  {
   "cell_type": "code",
   "execution_count": 7,
   "id": "db3de8fb",
   "metadata": {},
   "outputs": [
    {
     "data": {
      "text/plain": [
       "\"Hindoing: I can't do it!\""
      ]
     },
     "execution_count": 7,
     "metadata": {},
     "output_type": "execute_result"
    }
   ],
   "source": [
    "dog_hindoing.excercise(24)"
   ]
  },
  {
   "cell_type": "code",
   "execution_count": 8,
   "id": "aa695709",
   "metadata": {},
   "outputs": [
    {
     "data": {
      "text/plain": [
       "'Hindoing(Bichon, White): Gray(Color), 25.48(Weight)'"
      ]
     },
     "execution_count": 8,
     "metadata": {},
     "output_type": "execute_result"
    }
   ],
   "source": [
    "dog_hindoing.check()"
   ]
  },
  {
   "cell_type": "code",
   "execution_count": 9,
   "id": "86217f71",
   "metadata": {},
   "outputs": [
    {
     "data": {
      "text/plain": [
       "'Hindoing: woo~~~~~~~~~~~~~~~~~~'"
      ]
     },
     "execution_count": 9,
     "metadata": {},
     "output_type": "execute_result"
    }
   ],
   "source": [
    "dog_hindoing.howl()"
   ]
  },
  {
   "cell_type": "code",
   "execution_count": null,
   "id": "6490a928",
   "metadata": {},
   "outputs": [],
   "source": [
    "# save codes into: animals.py\n",
    "# use the class via: from animals import Dog"
   ]
  },
  {
   "cell_type": "code",
   "execution_count": 10,
   "id": "184396dc",
   "metadata": {},
   "outputs": [
    {
     "data": {
      "text/plain": [
       "3"
      ]
     },
     "execution_count": 10,
     "metadata": {},
     "output_type": "execute_result"
    }
   ],
   "source": [
    "sum([1,2])"
   ]
  },
  {
   "cell_type": "code",
   "execution_count": null,
   "id": "c3a5c385",
   "metadata": {},
   "outputs": [],
   "source": []
  }
 ],
 "metadata": {
  "kernelspec": {
   "display_name": "Python 3",
   "language": "python",
   "name": "python3"
  },
  "language_info": {
   "codemirror_mode": {
    "name": "ipython",
    "version": 3
   },
   "file_extension": ".py",
   "mimetype": "text/x-python",
   "name": "python",
   "nbconvert_exporter": "python",
   "pygments_lexer": "ipython3",
   "version": "3.9.4"
  }
 },
 "nbformat": 4,
 "nbformat_minor": 5
}
